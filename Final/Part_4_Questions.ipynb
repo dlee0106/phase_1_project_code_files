{
 "cells": [
  {
   "cell_type": "markdown",
   "metadata": {},
   "source": [
    "# Part 4 Questions"
   ]
  },
  {
   "cell_type": "code",
   "execution_count": 1,
   "metadata": {},
   "outputs": [],
   "source": [
    "import pandas as pd"
   ]
  },
  {
   "cell_type": "code",
   "execution_count": 2,
   "metadata": {},
   "outputs": [],
   "source": [
    "restaurant = pd.read_csv('Restaurant.csv')\n",
    "reviews = pd.read_csv('Review.csv')"
   ]
  },
  {
   "cell_type": "code",
   "execution_count": 3,
   "metadata": {},
   "outputs": [
    {
     "data": {
      "text/html": [
       "<div>\n",
       "<style scoped>\n",
       "    .dataframe tbody tr th:only-of-type {\n",
       "        vertical-align: middle;\n",
       "    }\n",
       "\n",
       "    .dataframe tbody tr th {\n",
       "        vertical-align: top;\n",
       "    }\n",
       "\n",
       "    .dataframe thead th {\n",
       "        text-align: right;\n",
       "    }\n",
       "</style>\n",
       "<table border=\"1\" class=\"dataframe\">\n",
       "  <thead>\n",
       "    <tr style=\"text-align: right;\">\n",
       "      <th></th>\n",
       "      <th>Business Id</th>\n",
       "      <th>Business Name</th>\n",
       "      <th>Type</th>\n",
       "      <th>Latitude</th>\n",
       "      <th>Longitude</th>\n",
       "      <th>Ratings</th>\n",
       "      <th>Review_Counts</th>\n",
       "      <th>Price</th>\n",
       "      <th>Zipcode</th>\n",
       "      <th>Delivery</th>\n",
       "    </tr>\n",
       "  </thead>\n",
       "  <tbody>\n",
       "    <tr>\n",
       "      <th>0</th>\n",
       "      <td>dh5r9-SbN8xJ76XvnayWLQ</td>\n",
       "      <td>Giano Restaurant</td>\n",
       "      <td>Italian</td>\n",
       "      <td>40.726226</td>\n",
       "      <td>-73.984057</td>\n",
       "      <td>4.5</td>\n",
       "      <td>614</td>\n",
       "      <td>$$</td>\n",
       "      <td>10009</td>\n",
       "      <td>True</td>\n",
       "    </tr>\n",
       "    <tr>\n",
       "      <th>1</th>\n",
       "      <td>Vs8kQ4R381y27AH018gLpg</td>\n",
       "      <td>Supper</td>\n",
       "      <td>Italian</td>\n",
       "      <td>40.722900</td>\n",
       "      <td>-73.985270</td>\n",
       "      <td>4.0</td>\n",
       "      <td>1315</td>\n",
       "      <td>$$</td>\n",
       "      <td>10009</td>\n",
       "      <td>True</td>\n",
       "    </tr>\n",
       "  </tbody>\n",
       "</table>\n",
       "</div>"
      ],
      "text/plain": [
       "              Business Id     Business Name     Type   Latitude  Longitude  \\\n",
       "0  dh5r9-SbN8xJ76XvnayWLQ  Giano Restaurant  Italian  40.726226 -73.984057   \n",
       "1  Vs8kQ4R381y27AH018gLpg            Supper  Italian  40.722900 -73.985270   \n",
       "\n",
       "   Ratings  Review_Counts Price  Zipcode  Delivery  \n",
       "0      4.5            614    $$    10009      True  \n",
       "1      4.0           1315    $$    10009      True  "
      ]
     },
     "execution_count": 3,
     "metadata": {},
     "output_type": "execute_result"
    }
   ],
   "source": [
    "restaurant.head(2)"
   ]
  },
  {
   "cell_type": "code",
   "execution_count": 4,
   "metadata": {},
   "outputs": [
    {
     "data": {
      "text/html": [
       "<div>\n",
       "<style scoped>\n",
       "    .dataframe tbody tr th:only-of-type {\n",
       "        vertical-align: middle;\n",
       "    }\n",
       "\n",
       "    .dataframe tbody tr th {\n",
       "        vertical-align: top;\n",
       "    }\n",
       "\n",
       "    .dataframe thead th {\n",
       "        text-align: right;\n",
       "    }\n",
       "</style>\n",
       "<table border=\"1\" class=\"dataframe\">\n",
       "  <thead>\n",
       "    <tr style=\"text-align: right;\">\n",
       "      <th></th>\n",
       "      <th>Business Id</th>\n",
       "      <th>Reviewer Name</th>\n",
       "      <th>Rating</th>\n",
       "      <th>Text</th>\n",
       "      <th>Time Created</th>\n",
       "    </tr>\n",
       "  </thead>\n",
       "  <tbody>\n",
       "    <tr>\n",
       "      <th>0</th>\n",
       "      <td>dh5r9-SbN8xJ76XvnayWLQ</td>\n",
       "      <td>Ash C.</td>\n",
       "      <td>5</td>\n",
       "      <td>Discovered this place during the pandemic and ...</td>\n",
       "      <td>2021-02-08</td>\n",
       "    </tr>\n",
       "    <tr>\n",
       "      <th>1</th>\n",
       "      <td>dh5r9-SbN8xJ76XvnayWLQ</td>\n",
       "      <td>Grey M.</td>\n",
       "      <td>5</td>\n",
       "      <td>We enjoyed a COVID dinner here.  We dined in a...</td>\n",
       "      <td>2021-01-23</td>\n",
       "    </tr>\n",
       "  </tbody>\n",
       "</table>\n",
       "</div>"
      ],
      "text/plain": [
       "              Business Id Reviewer Name  Rating  \\\n",
       "0  dh5r9-SbN8xJ76XvnayWLQ        Ash C.       5   \n",
       "1  dh5r9-SbN8xJ76XvnayWLQ       Grey M.       5   \n",
       "\n",
       "                                                Text Time Created  \n",
       "0  Discovered this place during the pandemic and ...   2021-02-08  \n",
       "1  We enjoyed a COVID dinner here.  We dined in a...   2021-01-23  "
      ]
     },
     "execution_count": 4,
     "metadata": {},
     "output_type": "execute_result"
    }
   ],
   "source": [
    "reviews.head(2)"
   ]
  },
  {
   "cell_type": "markdown",
   "metadata": {},
   "source": [
    "## Top 5 most reviewed businesses"
   ]
  },
  {
   "cell_type": "code",
   "execution_count": 5,
   "metadata": {},
   "outputs": [
    {
     "data": {
      "text/html": [
       "<div>\n",
       "<style scoped>\n",
       "    .dataframe tbody tr th:only-of-type {\n",
       "        vertical-align: middle;\n",
       "    }\n",
       "\n",
       "    .dataframe tbody tr th {\n",
       "        vertical-align: top;\n",
       "    }\n",
       "\n",
       "    .dataframe thead th {\n",
       "        text-align: right;\n",
       "    }\n",
       "</style>\n",
       "<table border=\"1\" class=\"dataframe\">\n",
       "  <thead>\n",
       "    <tr style=\"text-align: right;\">\n",
       "      <th></th>\n",
       "      <th>Business Name</th>\n",
       "      <th>Review_Counts</th>\n",
       "    </tr>\n",
       "  </thead>\n",
       "  <tbody>\n",
       "    <tr>\n",
       "      <th>41</th>\n",
       "      <td>Eataly Flatiron</td>\n",
       "      <td>5652</td>\n",
       "    </tr>\n",
       "    <tr>\n",
       "      <th>683</th>\n",
       "      <td>Buddakan</td>\n",
       "      <td>4027</td>\n",
       "    </tr>\n",
       "    <tr>\n",
       "      <th>135</th>\n",
       "      <td>Becco</td>\n",
       "      <td>2845</td>\n",
       "    </tr>\n",
       "    <tr>\n",
       "      <th>586</th>\n",
       "      <td>Vanessa's Dumpling House</td>\n",
       "      <td>2664</td>\n",
       "    </tr>\n",
       "    <tr>\n",
       "      <th>17</th>\n",
       "      <td>Uva</td>\n",
       "      <td>2420</td>\n",
       "    </tr>\n",
       "  </tbody>\n",
       "</table>\n",
       "</div>"
      ],
      "text/plain": [
       "                Business Name  Review_Counts\n",
       "41            Eataly Flatiron           5652\n",
       "683                  Buddakan           4027\n",
       "135                     Becco           2845\n",
       "586  Vanessa's Dumpling House           2664\n",
       "17                        Uva           2420"
      ]
     },
     "execution_count": 5,
     "metadata": {},
     "output_type": "execute_result"
    }
   ],
   "source": [
    "top_5 = restaurant[['Business Name', 'Review_Counts']].sort_values(by='Review_Counts', ascending = False).head()\n",
    "top_5"
   ]
  },
  {
   "cell_type": "markdown",
   "metadata": {},
   "source": [
    "## Highest rating and number of Businesses with that rating"
   ]
  },
  {
   "cell_type": "code",
   "execution_count": 6,
   "metadata": {},
   "outputs": [],
   "source": [
    "business_reviews = restaurant.merge(reviews, how = 'outer', on = 'Business Id' )"
   ]
  },
  {
   "cell_type": "code",
   "execution_count": 7,
   "metadata": {},
   "outputs": [
    {
     "data": {
      "text/html": [
       "<div>\n",
       "<style scoped>\n",
       "    .dataframe tbody tr th:only-of-type {\n",
       "        vertical-align: middle;\n",
       "    }\n",
       "\n",
       "    .dataframe tbody tr th {\n",
       "        vertical-align: top;\n",
       "    }\n",
       "\n",
       "    .dataframe thead th {\n",
       "        text-align: right;\n",
       "    }\n",
       "</style>\n",
       "<table border=\"1\" class=\"dataframe\">\n",
       "  <thead>\n",
       "    <tr style=\"text-align: right;\">\n",
       "      <th></th>\n",
       "      <th>Business Id</th>\n",
       "      <th>Business Name</th>\n",
       "      <th>Type</th>\n",
       "      <th>Latitude</th>\n",
       "      <th>Longitude</th>\n",
       "      <th>Ratings</th>\n",
       "      <th>Review_Counts</th>\n",
       "      <th>Price</th>\n",
       "      <th>Zipcode</th>\n",
       "      <th>Delivery</th>\n",
       "      <th>Reviewer Name</th>\n",
       "      <th>Rating</th>\n",
       "      <th>Text</th>\n",
       "      <th>Time Created</th>\n",
       "    </tr>\n",
       "  </thead>\n",
       "  <tbody>\n",
       "    <tr>\n",
       "      <th>0</th>\n",
       "      <td>dh5r9-SbN8xJ76XvnayWLQ</td>\n",
       "      <td>Giano Restaurant</td>\n",
       "      <td>Italian</td>\n",
       "      <td>40.726226</td>\n",
       "      <td>-73.984057</td>\n",
       "      <td>4.5</td>\n",
       "      <td>614</td>\n",
       "      <td>$$</td>\n",
       "      <td>10009</td>\n",
       "      <td>True</td>\n",
       "      <td>Ash C.</td>\n",
       "      <td>5</td>\n",
       "      <td>Discovered this place during the pandemic and ...</td>\n",
       "      <td>2021-02-08</td>\n",
       "    </tr>\n",
       "    <tr>\n",
       "      <th>1</th>\n",
       "      <td>dh5r9-SbN8xJ76XvnayWLQ</td>\n",
       "      <td>Giano Restaurant</td>\n",
       "      <td>Italian</td>\n",
       "      <td>40.726226</td>\n",
       "      <td>-73.984057</td>\n",
       "      <td>4.5</td>\n",
       "      <td>614</td>\n",
       "      <td>$$</td>\n",
       "      <td>10009</td>\n",
       "      <td>True</td>\n",
       "      <td>Grey M.</td>\n",
       "      <td>5</td>\n",
       "      <td>We enjoyed a COVID dinner here.  We dined in a...</td>\n",
       "      <td>2021-01-23</td>\n",
       "    </tr>\n",
       "  </tbody>\n",
       "</table>\n",
       "</div>"
      ],
      "text/plain": [
       "              Business Id     Business Name     Type   Latitude  Longitude  \\\n",
       "0  dh5r9-SbN8xJ76XvnayWLQ  Giano Restaurant  Italian  40.726226 -73.984057   \n",
       "1  dh5r9-SbN8xJ76XvnayWLQ  Giano Restaurant  Italian  40.726226 -73.984057   \n",
       "\n",
       "   Ratings  Review_Counts Price  Zipcode  Delivery Reviewer Name  Rating  \\\n",
       "0      4.5            614    $$    10009      True        Ash C.       5   \n",
       "1      4.5            614    $$    10009      True       Grey M.       5   \n",
       "\n",
       "                                                Text Time Created  \n",
       "0  Discovered this place during the pandemic and ...   2021-02-08  \n",
       "1  We enjoyed a COVID dinner here.  We dined in a...   2021-01-23  "
      ]
     },
     "execution_count": 7,
     "metadata": {},
     "output_type": "execute_result"
    }
   ],
   "source": [
    "business_reviews.head(2)"
   ]
  },
  {
   "cell_type": "code",
   "execution_count": 8,
   "metadata": {},
   "outputs": [
    {
     "data": {
      "text/html": [
       "<div>\n",
       "<style scoped>\n",
       "    .dataframe tbody tr th:only-of-type {\n",
       "        vertical-align: middle;\n",
       "    }\n",
       "\n",
       "    .dataframe tbody tr th {\n",
       "        vertical-align: top;\n",
       "    }\n",
       "\n",
       "    .dataframe thead th {\n",
       "        text-align: right;\n",
       "    }\n",
       "</style>\n",
       "<table border=\"1\" class=\"dataframe\">\n",
       "  <thead>\n",
       "    <tr style=\"text-align: right;\">\n",
       "      <th></th>\n",
       "      <th>count</th>\n",
       "    </tr>\n",
       "    <tr>\n",
       "      <th>Ratings</th>\n",
       "      <th></th>\n",
       "    </tr>\n",
       "  </thead>\n",
       "  <tbody>\n",
       "    <tr>\n",
       "      <th>5.0</th>\n",
       "      <td>18</td>\n",
       "    </tr>\n",
       "  </tbody>\n",
       "</table>\n",
       "</div>"
      ],
      "text/plain": [
       "         count\n",
       "Ratings       \n",
       "5.0         18"
      ]
     },
     "execution_count": 8,
     "metadata": {},
     "output_type": "execute_result"
    }
   ],
   "source": [
    "business_reviews.groupby(by='Ratings')['Business Id'].aggregate(['count']).sort_values(by='Ratings', ascending = False).head(1)"
   ]
  },
  {
   "cell_type": "markdown",
   "metadata": {},
   "source": [
    "## Businesses greater than or equal to 4.5 rating"
   ]
  },
  {
   "cell_type": "code",
   "execution_count": 9,
   "metadata": {},
   "outputs": [
    {
     "data": {
      "text/plain": [
       "15.384615384615385"
      ]
     },
     "execution_count": 9,
     "metadata": {},
     "output_type": "execute_result"
    }
   ],
   "source": [
    "restaurant[restaurant['Ratings'] >= 4.5].shape[0]/restaurant.shape[0]*100"
   ]
  },
  {
   "cell_type": "markdown",
   "metadata": {},
   "source": [
    "## Businesses with rating less than 3"
   ]
  },
  {
   "cell_type": "code",
   "execution_count": 10,
   "metadata": {},
   "outputs": [
    {
     "data": {
      "text/plain": [
       "1.7751479289940828"
      ]
     },
     "execution_count": 10,
     "metadata": {},
     "output_type": "execute_result"
    }
   ],
   "source": [
    "restaurant[restaurant['Ratings'] < 3].shape[0]/restaurant.shape[0]*100"
   ]
  },
  {
   "cell_type": "markdown",
   "metadata": {},
   "source": [
    "## Percent of businesses with $"
   ]
  },
  {
   "cell_type": "code",
   "execution_count": 11,
   "metadata": {},
   "outputs": [
    {
     "data": {
      "text/plain": [
       "$$      50.197239\n",
       "$       32.642998\n",
       "$$$     15.581854\n",
       "$$$$     1.577909\n",
       "Name: Price, dtype: float64"
      ]
     },
     "execution_count": 11,
     "metadata": {},
     "output_type": "execute_result"
    }
   ],
   "source": [
    "restaurant['Price'].value_counts(normalize = True)*100"
   ]
  },
  {
   "cell_type": "markdown",
   "metadata": {},
   "source": [
    "## Text for Most Reviewed Business"
   ]
  },
  {
   "cell_type": "code",
   "execution_count": 12,
   "metadata": {
    "scrolled": true
   },
   "outputs": [
    {
     "data": {
      "text/html": [
       "<div>\n",
       "<style scoped>\n",
       "    .dataframe tbody tr th:only-of-type {\n",
       "        vertical-align: middle;\n",
       "    }\n",
       "\n",
       "    .dataframe tbody tr th {\n",
       "        vertical-align: top;\n",
       "    }\n",
       "\n",
       "    .dataframe thead th {\n",
       "        text-align: right;\n",
       "    }\n",
       "</style>\n",
       "<table border=\"1\" class=\"dataframe\">\n",
       "  <thead>\n",
       "    <tr style=\"text-align: right;\">\n",
       "      <th></th>\n",
       "      <th>Business Id</th>\n",
       "      <th>Business Name</th>\n",
       "      <th>Type</th>\n",
       "      <th>Latitude</th>\n",
       "      <th>Longitude</th>\n",
       "      <th>Ratings</th>\n",
       "      <th>Review_Counts</th>\n",
       "      <th>Price</th>\n",
       "      <th>Zipcode</th>\n",
       "      <th>Delivery</th>\n",
       "    </tr>\n",
       "  </thead>\n",
       "  <tbody>\n",
       "    <tr>\n",
       "      <th>2</th>\n",
       "      <td>WG639VkTjmK5dzydd1BBJA</td>\n",
       "      <td>Rubirosa</td>\n",
       "      <td>Italian</td>\n",
       "      <td>40.722766</td>\n",
       "      <td>-73.996233</td>\n",
       "      <td>4.5</td>\n",
       "      <td>2323</td>\n",
       "      <td>$$</td>\n",
       "      <td>10012</td>\n",
       "      <td>True</td>\n",
       "    </tr>\n",
       "    <tr>\n",
       "      <th>3</th>\n",
       "      <td>rp8S7scxOkVVeG7dNneMGQ</td>\n",
       "      <td>L'Artusi</td>\n",
       "      <td>Italian</td>\n",
       "      <td>40.733720</td>\n",
       "      <td>-74.005130</td>\n",
       "      <td>4.5</td>\n",
       "      <td>1879</td>\n",
       "      <td>$$$</td>\n",
       "      <td>10014</td>\n",
       "      <td>True</td>\n",
       "    </tr>\n",
       "    <tr>\n",
       "      <th>4</th>\n",
       "      <td>yZJbealagfujEkgesAl2hA</td>\n",
       "      <td>Lupa</td>\n",
       "      <td>Italian</td>\n",
       "      <td>40.727600</td>\n",
       "      <td>-74.000045</td>\n",
       "      <td>4.0</td>\n",
       "      <td>1556</td>\n",
       "      <td>$$$</td>\n",
       "      <td>10012</td>\n",
       "      <td>True</td>\n",
       "    </tr>\n",
       "    <tr>\n",
       "      <th>1</th>\n",
       "      <td>Vs8kQ4R381y27AH018gLpg</td>\n",
       "      <td>Supper</td>\n",
       "      <td>Italian</td>\n",
       "      <td>40.722900</td>\n",
       "      <td>-73.985270</td>\n",
       "      <td>4.0</td>\n",
       "      <td>1315</td>\n",
       "      <td>$$</td>\n",
       "      <td>10009</td>\n",
       "      <td>True</td>\n",
       "    </tr>\n",
       "    <tr>\n",
       "      <th>0</th>\n",
       "      <td>dh5r9-SbN8xJ76XvnayWLQ</td>\n",
       "      <td>Giano Restaurant</td>\n",
       "      <td>Italian</td>\n",
       "      <td>40.726226</td>\n",
       "      <td>-73.984057</td>\n",
       "      <td>4.5</td>\n",
       "      <td>614</td>\n",
       "      <td>$$</td>\n",
       "      <td>10009</td>\n",
       "      <td>True</td>\n",
       "    </tr>\n",
       "  </tbody>\n",
       "</table>\n",
       "</div>"
      ],
      "text/plain": [
       "              Business Id     Business Name     Type   Latitude  Longitude  \\\n",
       "2  WG639VkTjmK5dzydd1BBJA          Rubirosa  Italian  40.722766 -73.996233   \n",
       "3  rp8S7scxOkVVeG7dNneMGQ          L'Artusi  Italian  40.733720 -74.005130   \n",
       "4  yZJbealagfujEkgesAl2hA              Lupa  Italian  40.727600 -74.000045   \n",
       "1  Vs8kQ4R381y27AH018gLpg            Supper  Italian  40.722900 -73.985270   \n",
       "0  dh5r9-SbN8xJ76XvnayWLQ  Giano Restaurant  Italian  40.726226 -73.984057   \n",
       "\n",
       "   Ratings  Review_Counts Price  Zipcode  Delivery  \n",
       "2      4.5           2323    $$    10012      True  \n",
       "3      4.5           1879   $$$    10014      True  \n",
       "4      4.0           1556   $$$    10012      True  \n",
       "1      4.0           1315    $$    10009      True  \n",
       "0      4.5            614    $$    10009      True  "
      ]
     },
     "execution_count": 12,
     "metadata": {},
     "output_type": "execute_result"
    }
   ],
   "source": [
    "restaurant.head(5).sort_values(by = 'Review_Counts', ascending = False)"
   ]
  },
  {
   "cell_type": "code",
   "execution_count": 13,
   "metadata": {},
   "outputs": [
    {
     "data": {
      "text/plain": [
       "6    The key is to eat this pizza FRESH, piping hot...\n",
       "7    I always want to try Rubirosa pizza. But how c...\n",
       "8    Easily one of the best places in the city to s...\n",
       "Name: Text, dtype: object"
      ]
     },
     "execution_count": 13,
     "metadata": {},
     "output_type": "execute_result"
    }
   ],
   "source": [
    "business_reviews[business_reviews['Business Id'] == 'WG639VkTjmK5dzydd1BBJA']['Text']"
   ]
  },
  {
   "cell_type": "markdown",
   "metadata": {},
   "source": [
    "## Highest rated business and most recent review"
   ]
  },
  {
   "cell_type": "code",
   "execution_count": 14,
   "metadata": {},
   "outputs": [
    {
     "data": {
      "text/html": [
       "<div>\n",
       "<style scoped>\n",
       "    .dataframe tbody tr th:only-of-type {\n",
       "        vertical-align: middle;\n",
       "    }\n",
       "\n",
       "    .dataframe tbody tr th {\n",
       "        vertical-align: top;\n",
       "    }\n",
       "\n",
       "    .dataframe thead th {\n",
       "        text-align: right;\n",
       "    }\n",
       "</style>\n",
       "<table border=\"1\" class=\"dataframe\">\n",
       "  <thead>\n",
       "    <tr style=\"text-align: right;\">\n",
       "      <th></th>\n",
       "      <th>Business Id</th>\n",
       "      <th>Business Name</th>\n",
       "      <th>Type</th>\n",
       "      <th>Latitude</th>\n",
       "      <th>Longitude</th>\n",
       "      <th>Ratings</th>\n",
       "      <th>Review_Counts</th>\n",
       "      <th>Price</th>\n",
       "      <th>Zipcode</th>\n",
       "      <th>Delivery</th>\n",
       "    </tr>\n",
       "  </thead>\n",
       "  <tbody>\n",
       "    <tr>\n",
       "      <th>2</th>\n",
       "      <td>WG639VkTjmK5dzydd1BBJA</td>\n",
       "      <td>Rubirosa</td>\n",
       "      <td>Italian</td>\n",
       "      <td>40.722766</td>\n",
       "      <td>-73.996233</td>\n",
       "      <td>4.5</td>\n",
       "      <td>2323</td>\n",
       "      <td>$$</td>\n",
       "      <td>10012</td>\n",
       "      <td>True</td>\n",
       "    </tr>\n",
       "    <tr>\n",
       "      <th>3</th>\n",
       "      <td>rp8S7scxOkVVeG7dNneMGQ</td>\n",
       "      <td>L'Artusi</td>\n",
       "      <td>Italian</td>\n",
       "      <td>40.733720</td>\n",
       "      <td>-74.005130</td>\n",
       "      <td>4.5</td>\n",
       "      <td>1879</td>\n",
       "      <td>$$$</td>\n",
       "      <td>10014</td>\n",
       "      <td>True</td>\n",
       "    </tr>\n",
       "    <tr>\n",
       "      <th>0</th>\n",
       "      <td>dh5r9-SbN8xJ76XvnayWLQ</td>\n",
       "      <td>Giano Restaurant</td>\n",
       "      <td>Italian</td>\n",
       "      <td>40.726226</td>\n",
       "      <td>-73.984057</td>\n",
       "      <td>4.5</td>\n",
       "      <td>614</td>\n",
       "      <td>$$</td>\n",
       "      <td>10009</td>\n",
       "      <td>True</td>\n",
       "    </tr>\n",
       "    <tr>\n",
       "      <th>4</th>\n",
       "      <td>yZJbealagfujEkgesAl2hA</td>\n",
       "      <td>Lupa</td>\n",
       "      <td>Italian</td>\n",
       "      <td>40.727600</td>\n",
       "      <td>-74.000045</td>\n",
       "      <td>4.0</td>\n",
       "      <td>1556</td>\n",
       "      <td>$$$</td>\n",
       "      <td>10012</td>\n",
       "      <td>True</td>\n",
       "    </tr>\n",
       "    <tr>\n",
       "      <th>1</th>\n",
       "      <td>Vs8kQ4R381y27AH018gLpg</td>\n",
       "      <td>Supper</td>\n",
       "      <td>Italian</td>\n",
       "      <td>40.722900</td>\n",
       "      <td>-73.985270</td>\n",
       "      <td>4.0</td>\n",
       "      <td>1315</td>\n",
       "      <td>$$</td>\n",
       "      <td>10009</td>\n",
       "      <td>True</td>\n",
       "    </tr>\n",
       "  </tbody>\n",
       "</table>\n",
       "</div>"
      ],
      "text/plain": [
       "              Business Id     Business Name     Type   Latitude  Longitude  \\\n",
       "2  WG639VkTjmK5dzydd1BBJA          Rubirosa  Italian  40.722766 -73.996233   \n",
       "3  rp8S7scxOkVVeG7dNneMGQ          L'Artusi  Italian  40.733720 -74.005130   \n",
       "0  dh5r9-SbN8xJ76XvnayWLQ  Giano Restaurant  Italian  40.726226 -73.984057   \n",
       "4  yZJbealagfujEkgesAl2hA              Lupa  Italian  40.727600 -74.000045   \n",
       "1  Vs8kQ4R381y27AH018gLpg            Supper  Italian  40.722900 -73.985270   \n",
       "\n",
       "   Ratings  Review_Counts Price  Zipcode  Delivery  \n",
       "2      4.5           2323    $$    10012      True  \n",
       "3      4.5           1879   $$$    10014      True  \n",
       "0      4.5            614    $$    10009      True  \n",
       "4      4.0           1556   $$$    10012      True  \n",
       "1      4.0           1315    $$    10009      True  "
      ]
     },
     "execution_count": 14,
     "metadata": {},
     "output_type": "execute_result"
    }
   ],
   "source": [
    "restaurant.head(5).sort_values(by = ['Ratings','Review_Counts'], ascending = False)"
   ]
  },
  {
   "cell_type": "code",
   "execution_count": 15,
   "metadata": {},
   "outputs": [
    {
     "data": {
      "text/plain": [
       "6    The key is to eat this pizza FRESH, piping hot...\n",
       "Name: Text, dtype: object"
      ]
     },
     "execution_count": 15,
     "metadata": {},
     "output_type": "execute_result"
    }
   ],
   "source": [
    "business_reviews[business_reviews['Business Id'] == 'WG639VkTjmK5dzydd1BBJA'][['Text', 'Time Created']].sort_values('Time Created', ascending = False).head(1)['Text']"
   ]
  },
  {
   "cell_type": "markdown",
   "metadata": {},
   "source": [
    "## Lowest rated business and most recent review"
   ]
  },
  {
   "cell_type": "code",
   "execution_count": 16,
   "metadata": {},
   "outputs": [
    {
     "data": {
      "text/html": [
       "<div>\n",
       "<style scoped>\n",
       "    .dataframe tbody tr th:only-of-type {\n",
       "        vertical-align: middle;\n",
       "    }\n",
       "\n",
       "    .dataframe tbody tr th {\n",
       "        vertical-align: top;\n",
       "    }\n",
       "\n",
       "    .dataframe thead th {\n",
       "        text-align: right;\n",
       "    }\n",
       "</style>\n",
       "<table border=\"1\" class=\"dataframe\">\n",
       "  <thead>\n",
       "    <tr style=\"text-align: right;\">\n",
       "      <th></th>\n",
       "      <th>Business Id</th>\n",
       "      <th>Business Name</th>\n",
       "      <th>Type</th>\n",
       "      <th>Latitude</th>\n",
       "      <th>Longitude</th>\n",
       "      <th>Ratings</th>\n",
       "      <th>Review_Counts</th>\n",
       "      <th>Price</th>\n",
       "      <th>Zipcode</th>\n",
       "      <th>Delivery</th>\n",
       "    </tr>\n",
       "  </thead>\n",
       "  <tbody>\n",
       "    <tr>\n",
       "      <th>1</th>\n",
       "      <td>Vs8kQ4R381y27AH018gLpg</td>\n",
       "      <td>Supper</td>\n",
       "      <td>Italian</td>\n",
       "      <td>40.722900</td>\n",
       "      <td>-73.985270</td>\n",
       "      <td>4.0</td>\n",
       "      <td>1315</td>\n",
       "      <td>$$</td>\n",
       "      <td>10009</td>\n",
       "      <td>True</td>\n",
       "    </tr>\n",
       "    <tr>\n",
       "      <th>4</th>\n",
       "      <td>yZJbealagfujEkgesAl2hA</td>\n",
       "      <td>Lupa</td>\n",
       "      <td>Italian</td>\n",
       "      <td>40.727600</td>\n",
       "      <td>-74.000045</td>\n",
       "      <td>4.0</td>\n",
       "      <td>1556</td>\n",
       "      <td>$$$</td>\n",
       "      <td>10012</td>\n",
       "      <td>True</td>\n",
       "    </tr>\n",
       "    <tr>\n",
       "      <th>0</th>\n",
       "      <td>dh5r9-SbN8xJ76XvnayWLQ</td>\n",
       "      <td>Giano Restaurant</td>\n",
       "      <td>Italian</td>\n",
       "      <td>40.726226</td>\n",
       "      <td>-73.984057</td>\n",
       "      <td>4.5</td>\n",
       "      <td>614</td>\n",
       "      <td>$$</td>\n",
       "      <td>10009</td>\n",
       "      <td>True</td>\n",
       "    </tr>\n",
       "    <tr>\n",
       "      <th>3</th>\n",
       "      <td>rp8S7scxOkVVeG7dNneMGQ</td>\n",
       "      <td>L'Artusi</td>\n",
       "      <td>Italian</td>\n",
       "      <td>40.733720</td>\n",
       "      <td>-74.005130</td>\n",
       "      <td>4.5</td>\n",
       "      <td>1879</td>\n",
       "      <td>$$$</td>\n",
       "      <td>10014</td>\n",
       "      <td>True</td>\n",
       "    </tr>\n",
       "    <tr>\n",
       "      <th>2</th>\n",
       "      <td>WG639VkTjmK5dzydd1BBJA</td>\n",
       "      <td>Rubirosa</td>\n",
       "      <td>Italian</td>\n",
       "      <td>40.722766</td>\n",
       "      <td>-73.996233</td>\n",
       "      <td>4.5</td>\n",
       "      <td>2323</td>\n",
       "      <td>$$</td>\n",
       "      <td>10012</td>\n",
       "      <td>True</td>\n",
       "    </tr>\n",
       "  </tbody>\n",
       "</table>\n",
       "</div>"
      ],
      "text/plain": [
       "              Business Id     Business Name     Type   Latitude  Longitude  \\\n",
       "1  Vs8kQ4R381y27AH018gLpg            Supper  Italian  40.722900 -73.985270   \n",
       "4  yZJbealagfujEkgesAl2hA              Lupa  Italian  40.727600 -74.000045   \n",
       "0  dh5r9-SbN8xJ76XvnayWLQ  Giano Restaurant  Italian  40.726226 -73.984057   \n",
       "3  rp8S7scxOkVVeG7dNneMGQ          L'Artusi  Italian  40.733720 -74.005130   \n",
       "2  WG639VkTjmK5dzydd1BBJA          Rubirosa  Italian  40.722766 -73.996233   \n",
       "\n",
       "   Ratings  Review_Counts Price  Zipcode  Delivery  \n",
       "1      4.0           1315    $$    10009      True  \n",
       "4      4.0           1556   $$$    10012      True  \n",
       "0      4.5            614    $$    10009      True  \n",
       "3      4.5           1879   $$$    10014      True  \n",
       "2      4.5           2323    $$    10012      True  "
      ]
     },
     "execution_count": 16,
     "metadata": {},
     "output_type": "execute_result"
    }
   ],
   "source": [
    "restaurant.head(5).sort_values(by = ['Ratings', 'Review_Counts'], ascending = True)"
   ]
  },
  {
   "cell_type": "code",
   "execution_count": 17,
   "metadata": {},
   "outputs": [
    {
     "data": {
      "text/plain": [
       "5    Every single dish, every single time, always d...\n",
       "Name: Text, dtype: object"
      ]
     },
     "execution_count": 17,
     "metadata": {},
     "output_type": "execute_result"
    }
   ],
   "source": [
    "business_reviews[business_reviews['Business Id'] == 'Vs8kQ4R381y27AH018gLpg'][['Text', 'Time Created']].sort_values('Time Created', ascending = False).head(1)['Text']"
   ]
  }
 ],
 "metadata": {
  "kernelspec": {
   "display_name": "learn-env",
   "language": "python",
   "name": "learn-env"
  },
  "language_info": {
   "codemirror_mode": {
    "name": "ipython",
    "version": 3
   },
   "file_extension": ".py",
   "mimetype": "text/x-python",
   "name": "python",
   "nbconvert_exporter": "python",
   "pygments_lexer": "ipython3",
   "version": "3.8.5"
  }
 },
 "nbformat": 4,
 "nbformat_minor": 4
}
